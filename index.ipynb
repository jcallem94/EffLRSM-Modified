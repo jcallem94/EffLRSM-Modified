{
 "cells": [
  {
   "cell_type": "code",
   "execution_count": 1,
   "metadata": {
    "collapsed": true
   },
   "outputs": [],
   "source": [
    "import subprocess\n",
    "import pandas as pd"
   ]
  },
  {
   "cell_type": "code",
   "execution_count": 16,
   "metadata": {
    "collapsed": true
   },
   "outputs": [],
   "source": [
    "model = \"Emodel\"\n",
    "Output = \"Salida\"\n",
    "Delts = 1.99999\n",
    "mwr = 1.0\n",
    "\n",
    "f = open (\"fichero.txt\", \"w\")\n",
    "f.write(\"import model %s -modelname  \\n\" %model)\n",
    "f.write(\"generate p p > j wr+ \\n\")\n",
    "f.write(\"output %s -f \\n\" %Output)\n",
    "f.write(\"launch %s \\n\" %Output)\n",
    "f.write(\"set delts = %f \\n\" %Delts)\n",
    "f.write(\"set mwr = %f \\n\" %mwr)\n",
    "\n",
    "#f.write(\"launch %s  -i print_results --path='cs.txt' --format=short \\n\" %Output) \n",
    "\n",
    "f.close()"
   ]
  },
  {
   "cell_type": "code",
   "execution_count": null,
   "metadata": {
    "collapsed": true
   },
   "outputs": [],
   "source": [
    "def run_madgraph(mwr,Delts,Deltab,krq,cfg):\n",
    "# launch command from MadGraph directory\n",
    "    if not cfg.VERBOSE:\n",
    "        s=subprocess.Popen( 'bash kk.sh'.split(), cwd=cfg.MADGRAPH,\n",
    "                                        stdout=subprocess.PIPE, stderr=subprocess.PIPE)\n",
    "        s.wait()\n",
    "\n",
    "    if cfg.VERBOSE:\n",
    "        subprocess_line_by_line( 'bash kk.sh'.split(), cwd=cfg.MADGRAPH,TRUST_ERRORS=False)"
   ]
  },
  {
   "cell_type": "code",
   "execution_count": 1,
   "metadata": {
    "collapsed": true
   },
   "outputs": [],
   "source": [
    "model = \"EffLRSM-New\"\n",
    "Output = \"Salida\"\n",
    "krq = 1.204624\n",
    "Deltb = 1.600000e-02\n",
    "Delts = [-0.99451178, -0.9893353,  -0.98413161, -0.97890026, -0.97364081, -0.96835281, -0.96303578, -0.95768925, -0.9523127, -0.94690565]\n",
    "mwr = 300\n",
    "\n",
    "f = open (\"fichero.txt\", \"w\")\n",
    "f.write(\"import model %s -modelname  \\n\" %model)\n",
    "f.write(\"generate p p > j j wr+ \\n\")\n",
    "f.write(\"add process p p > j j wr- \\n\")\n",
    "f.write(\"output %s -f \\n\" %Output)\n",
    "f.write(\"launch %s \\n\" %Output)\n",
    "f.write(\"set krq = %f \\n\" %krq)\n",
    "f.write(\"set mwr = %f \\n\" %mwr)\n",
    "f.write(\"set deltb = %f \\n\" %Deltb)\n",
    "f.write(\"set delts = %f \\n\" %Delts[0])\n",
    "for i in range(1,len(Delts)):\n",
    "    f.write(\"launch %s \\n\" %Output)\n",
    "    f.write(\"set delts = %f \\n\" %Delts[i])  \n",
    "    \n",
    "#os.system(\"emacs nuevo\")\n",
    "#f.write(\"launch %s  -i print_results --path='cs.txt' --format=short \\n\" %Output) \n",
    "\n",
    "f.close()"
   ]
  },
  {
   "cell_type": "code",
   "execution_count": 20,
   "metadata": {},
   "outputs": [
    {
     "data": {
      "text/plain": [
       "0"
      ]
     },
     "execution_count": 20,
     "metadata": {},
     "output_type": "execute_result"
    }
   ],
   "source": [
    "import os\n",
    "os.system(\"emacs nuevo\")"
   ]
  },
  {
   "cell_type": "code",
   "execution_count": 29,
   "metadata": {
    "collapsed": true
   },
   "outputs": [],
   "source": [
    "Output = \"~/DiJet\"\n",
    "krq = 1.204624\n",
    "Deltb = 1.600000e-02\n",
    "Delts = [-0.99451178, -0.9893353]#,  -0.98413161, -0.97890026, -0.97364081, -0.96835281, -0.96303578, -0.95768925, -0.9523127, -0.94690565]\n",
    "mwr = 200\n",
    "\n",
    "f = open (\"fichero1.txt\", \"w\")\n",
    "f.write(\"launch %s \\n\" %Output)\n",
    "f.write(\"set krq = %f \\n\" %krq)\n",
    "f.write(\"set mwr = %f \\n\" %mwr)\n",
    "f.write(\"set deltb = %f \\n\" %Deltb)\n",
    "f.write(\"set delts = %f \\n\" %Delts[0])\n",
    "for i in range(1,len(Delts)):\n",
    "    f.write(\"launch %s \\n\" %Output)\n",
    "    f.write(\"set delts = %f \\n\" %Delts[i])  \n",
    "    \n",
    "#os.system(\"emacs nuevo\")\n",
    "#f.write(\"launch %s  -i print_results --path='cs.txt' --format=short \\n\" %Output) \n",
    "\n",
    "f.close()"
   ]
  },
  {
   "cell_type": "code",
   "execution_count": null,
   "metadata": {
    "collapsed": true
   },
   "outputs": [],
   "source": []
  }
 ],
 "metadata": {
  "kernelspec": {
   "display_name": "Python 3",
   "language": "python",
   "name": "python3"
  },
  "language_info": {
   "codemirror_mode": {
    "name": "ipython",
    "version": 3
   },
   "file_extension": ".py",
   "mimetype": "text/x-python",
   "name": "python",
   "nbconvert_exporter": "python",
   "pygments_lexer": "ipython3",
   "version": "3.4.2"
  },
  "latex_envs": {
   "LaTeX_envs_menu_present": true,
   "bibliofile": "biblio.bib",
   "cite_by": "apalike",
   "current_citInitial": 1,
   "eqLabelWithNumbers": true,
   "eqNumInitial": 1,
   "labels_anchors": false,
   "latex_user_defs": false,
   "report_style_numbering": false,
   "user_envs_cfg": false
  }
 },
 "nbformat": 4,
 "nbformat_minor": 2
}
